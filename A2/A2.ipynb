{
 "cells": [
  {
   "cell_type": "markdown",
   "metadata": {},
   "source": [
    "## Assignment 2 ##"
   ]
  },
  {
   "cell_type": "code",
   "execution_count": 1,
   "metadata": {},
   "outputs": [],
   "source": [
    "import pandas as pd\n",
    "import numpy as np\n",
    "import matplotlib.pyplot as plt\n",
    "from scipy.stats import ttest_1samp, ttest_ind\n",
    "import seaborn as sns\n"
   ]
  },
  {
   "cell_type": "code",
   "execution_count": 2,
   "metadata": {},
   "outputs": [],
   "source": [
    "df = pd.read_csv('COVID-19_CBC_Data.csv')\n",
    "#admission = df['Admission_DATE']\n",
    "#discharge = df['Discharge_DATE']\n",
    "outcome = df['Outcome'] \n",
    "age = df['Patient Age']\n",
    "gender = df['Gender']\n",
    "rbc = df['Red blood cell distribution width']\n",
    "monocytes = df['Monocytes(%)']\n",
    "lymphocytes = df['Lymphocyte Count']\n",
    "platelet = df['Platelet Count']\n",
    "wbc = df['White blood cell count']\n",
    "\n",
    "\n",
    "avg_rbc = df.groupby('Patient Age')['Red blood cell distribution width'].mean()\n",
    "\n",
    "\n"
   ]
  },
  {
   "cell_type": "code",
   "execution_count": 3,
   "metadata": {},
   "outputs": [],
   "source": [
    "avg_monocytes = monocytes.mean()\n",
    "avg_lymphocytes = lymphocytes.mean()\n",
    "\n",
    "monocytes_ttest = ttest_1samp(monocytes, avg_monocytes)\n",
    "lymphocytes_ttest = ttest_1samp(lymphocytes, avg_lymphocytes)\n",
    "\n",
    "monocytes_2 = ttest_ind(monocytes, avg_monocytes)\n",
    "lymphocytes_2 = ttest_ind(lymphocytes, avg_lymphocytes)\n",
    "\n",
    "two_sample_ttest = ttest_ind(monocytes, lymphocytes)   \n",
    "# print(two_sample_ttest)"
   ]
  },
  {
   "cell_type": "code",
   "execution_count": 4,
   "metadata": {},
   "outputs": [
    {
     "name": "stdout",
     "output_type": "stream",
     "text": [
      "8.829768574442878e-90\n"
     ]
    }
   ],
   "source": [
    "# 1b. \n",
    "\n",
    "two_sample_ttest = ttest_ind(platelet, wbc)\n",
    "print(two_sample_ttest.pvalue)\n"
   ]
  },
  {
   "cell_type": "code",
   "execution_count": 5,
   "metadata": {},
   "outputs": [
    {
     "name": "stderr",
     "output_type": "stream",
     "text": [
      "C:\\Users\\notta\\AppData\\Local\\Temp\\ipykernel_36452\\308342674.py:4: FutureWarning: \n",
      "\n",
      "Passing `palette` without assigning `hue` is deprecated and will be removed in v0.14.0. Assign the `x` variable to `hue` and set `legend=False` for the same effect.\n",
      "\n",
      "  sns.barplot(x=['WBC', 'Platelet'], y=[mean_wbc, mean_platelet], palette=['coral', 'lightblue'])\n"
     ]
    },
    {
     "data": {
      "text/plain": [
       "<Axes: >"
      ]
     },
     "execution_count": 5,
     "metadata": {},
     "output_type": "execute_result"
    },
    {
     "data": {
      "image/png": "[encoded data removed]",
      "text/plain": [
       "<Figure size 640x480 with 1 Axes>"
      ]
     },
     "metadata": {},
     "output_type": "display_data"
    }
   ],
   "source": [
    "# 1c. \n",
    "mean_wbc = wbc.mean()\n",
    "mean_platelet = platelet.mean()\n",
    "sns.barplot(x=['WBC', 'Platelet'], y=[mean_wbc, mean_platelet], palette=['coral', 'lightblue'])\n"
   ]
  },
  {
   "cell_type": "code",
   "execution_count": null,
   "metadata": {},
   "outputs": [],
   "source": [
    "dfalsdfhuuadbjkg,qe'fad"
   ]
  }
 ],
 "metadata": {
  "kernelspec": {
   "display_name": "ai_env",
   "language": "python",
   "name": "python3"
  },
  "language_info": {
   "codemirror_mode": {
    "name": "ipython",
    "version": 3
   },
   "file_extension": ".py",
   "mimetype": "text/x-python",
   "name": "python",
   "nbconvert_exporter": "python",
   "pygments_lexer": "ipython3",
   "version": "3.12.3"
  }
 },
 "nbformat": 4,
 "nbformat_minor": 2
}
